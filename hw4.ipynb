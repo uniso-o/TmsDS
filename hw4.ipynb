{
 "cells": [
  {
   "cell_type": "code",
   "execution_count": 2,
   "id": "470297af-458f-49c4-800a-e62d13d0acd4",
   "metadata": {},
   "outputs": [
    {
     "name": "stdout",
     "output_type": "stream",
     "text": [
      "2.775368323057839\n"
     ]
    }
   ],
   "source": [
    "#function\n",
    "import math\n",
    "x = 1.79\n",
    "y = (math.cos(math.exp(x)) + math.log(1 + x) ** 2 + math.sqrt((math.exp(math.cos(x))) + math.sin(math.pi * x) ** 2) + math.sqrt(1/x) + (math.cos(x ** 2))) ** math.sin(x)\n",
    "print(y)"
   ]
  },
  {
   "cell_type": "code",
   "execution_count": 33,
   "id": "daf83d08-b57a-46c6-b422-7ec7aa5a4e8a",
   "metadata": {},
   "outputs": [
    {
     "name": "stdout",
     "output_type": "stream",
     "text": [
      "Есть контакт!\n",
      "Есть контакт!\n",
      "Мимо!\n"
     ]
    },
    {
     "data": {
      "text/plain": [
       "False"
      ]
     },
     "execution_count": 33,
     "metadata": {},
     "output_type": "execute_result"
    }
   ],
   "source": [
    "#search_substr\n",
    "def search_substr(subst, st):\n",
    "    if subst.upper() in st.upper():\n",
    "        print('Есть контакт!')\n",
    "    else: \n",
    "        print('Мимо!')\n",
    "    return subst.upper() in st.upper()\n",
    "search_substr('st', 'stroka')\n",
    "search_substr('N', 'NEWSPACE')\n",
    "search_substr('Win', 'world')"
   ]
  },
  {
   "cell_type": "code",
   "execution_count": 30,
   "id": "ea46b024-f5ad-4c5e-a039-76d85d70c557",
   "metadata": {},
   "outputs": [
    {
     "name": "stdout",
     "output_type": "stream",
     "text": [
      "[(',', 3), ('c', 2), ('a', 1)]\n",
      "[('e', 4), ('r', 2), ('t', 2)]\n"
     ]
    },
    {
     "data": {
      "text/plain": [
       "'Create new project'"
      ]
     },
     "execution_count": 30,
     "metadata": {},
     "output_type": "execute_result"
    }
   ],
   "source": [
    "#3symbol\n",
    "from collections import Counter\n",
    "def countalpha(stroka, type = str):\n",
    "    nospace = stroka.replace(' ', '')\n",
    "    print(Counter(nospace).most_common(3))\n",
    "    return stroka\n",
    "countalpha('a, b,, cc')\n",
    "countalpha('Create new project')"
   ]
  },
  {
   "cell_type": "code",
   "execution_count": 10,
   "id": "7009839b-6a00-4780-97b8-16fa0505cd77",
   "metadata": {},
   "outputs": [
    {
     "name": "stdout",
     "output_type": "stream",
     "text": [
      "[('0', 3), ('8', 2), ('5', 1)]\n",
      "[('5', 3), ('4', 2), ('0', 1)]\n",
      "[('0', 4), ('6', 2), ('7', 1)]\n"
     ]
    },
    {
     "data": {
      "text/plain": [
       "[('0', 4), ('6', 2), ('7', 1)]"
      ]
     },
     "execution_count": 10,
     "metadata": {},
     "output_type": "execute_result"
    }
   ],
   "source": [
    "#countit\n",
    "import random\n",
    "from collections import Counter\n",
    "def count_it(sequence, type = str):\n",
    "    dictionary = {}\n",
    "    nospaceseq = sequence.replace(' ', '') \n",
    "    nospaceseq1 = nospaceseq.replace(',', '')\n",
    "    dictionary.fromkeys(sequence)\n",
    "    value = Counter(nospaceseq1)\n",
    "    dictionary.update(value)\n",
    "    print(Counter(nospaceseq1).most_common(3))\n",
    "    return (Counter(nospaceseq1).most_common(3))\n",
    "count_it('8, 0, 5, 8, 0, 0, 7, 6')\n",
    "count_it('0, 8, 5, 5, 9, 4, 4, 5')\n",
    "count_it('6, 6, 7, 0, 0, 0, 0')"
   ]
  },
  {
   "cell_type": "code",
   "execution_count": 45,
   "id": "ec943f49-b79a-47aa-9e0b-892337c7bcda",
   "metadata": {},
   "outputs": [
    {
     "name": "stdout",
     "output_type": "stream",
     "text": [
      "Нет угрозы\n",
      "Нет угрозы\n",
      "Нет угрозы\n",
      "Угроза\n"
     ]
    },
    {
     "data": {
      "text/plain": [
       "'Угроза'"
      ]
     },
     "execution_count": 45,
     "metadata": {},
     "output_type": "execute_result"
    }
   ],
   "source": [
    "#chessthreat\n",
    "def threat(a, b, c, d, type = int):\n",
    "    #queen\n",
    "    for i in range(4):\n",
    "        if a == c and b != d or a != c and b == d:\n",
    "            answer = ('Угроза')\n",
    "        elif a == c + i and b == d + i or a == c + i and b == d - i or a == c - i and b == d + i or a == c - i and b == d - i:\n",
    "            answer = ('Угроза')\n",
    "        #horse\n",
    "    if a == c - 1 and b == d - 2 or a == c - 1 and b == d + 2 or a == c + 1 and b == d - 2 or a == c + 1 and b == d + 2:\n",
    "        answer = ('Угроза')\n",
    "    elif a == c - 2 and b == d - 1 or a == c - 2 and b == d + 1 or a == c + 2 and b == d - 1 or a == c + 2 and b == d + 1:\n",
    "        answer = ('Угроза')\n",
    "    else:\n",
    "        answer = ('Нет угрозы')\n",
    "    print(answer)\n",
    "    return(answer)\n",
    "threat(3, 6, 3, 7)\n",
    "threat(3, 3, 4, 7)\n",
    "threat(1, 1, 9, 8)\n",
    "threat(4, 3, 5, 1)"
   ]
  },
  {
   "cell_type": "code",
   "execution_count": 57,
   "id": "bfa105e5-1b71-4d3f-baf6-c224d7d6640b",
   "metadata": {},
   "outputs": [
    {
     "name": "stdout",
     "output_type": "stream",
     "text": [
      "Еще один ход\n",
      "0 3\n",
      "Еще один ход\n",
      "2 4\n",
      "Ходы закончились, противник не потерял фигуру\n"
     ]
    },
    {
     "data": {
      "text/plain": [
       "'Ход конем'"
      ]
     },
     "execution_count": 57,
     "metadata": {},
     "output_type": "execute_result"
    }
   ],
   "source": [
    "#chessattack\n",
    "import random\n",
    "def attack(a, b, c, d, type = int, move = 1):\n",
    "    coordinates: list = [(a - 1, b - 2), (a - 1, b + 2), (a + 1, b - 2), (a + 1, b + 2), (a - 2, b - 1), (a - 2, b + 1), (a + 2, b - 1), (a + 2, b + 1)]\n",
    "    if c == a - 1 and d == b - 2 or c == a - 1 and d == b + 2 or c == a + 1 and d == b - 2 or c == a + 1 and d == b + 2 or c == a - 2 and d == b - 1 or c == a - 2 and d == b + 1 or c == a + 2 and d == b - 1 or c == a + 2 and d == b + 1:\n",
    "        answer = ('Соперник лишился фигуры')\n",
    "    else:\n",
    "        print('Еще один ход')\n",
    "        a, b = random.choice(coordinates)\n",
    "        print(a, b)\n",
    "        if move > 0 :\n",
    "            return attack(a, b, c, d, type = int, move = move - 1)\n",
    "        answer = ('Ходы закончились, противник не потерял фигуру')\n",
    "        print(answer)\n",
    "    return(answer)\n",
    "attack(5, 3, 4, 3)     \n",
    "attack(2, 4, 4, 3) \n",
    "attack(1, 0, 4, 3)"
   ]
  }
 ],
 "metadata": {
  "kernelspec": {
   "display_name": "Python [conda env:base] *",
   "language": "python",
   "name": "conda-base-py"
  },
  "language_info": {
   "codemirror_mode": {
    "name": "ipython",
    "version": 3
   },
   "file_extension": ".py",
   "mimetype": "text/x-python",
   "name": "python",
   "nbconvert_exporter": "python",
   "pygments_lexer": "ipython3",
   "version": "3.13.5"
  }
 },
 "nbformat": 4,
 "nbformat_minor": 5
}
