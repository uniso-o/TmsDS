{
 "cells": [
  {
   "cell_type": "code",
   "execution_count": 17,
   "id": "964ebd4c-712a-4534-8c16-e83c9e61f22c",
   "metadata": {},
   "outputs": [
    {
     "name": "stdout",
     "output_type": "stream",
     "text": [
      "[(1, False), (2, False), (3, False), (4, False), (5, False), (6, False), (7, False), (8, False), (9, False), (10, False), (1, False), (2, False), (3, False), (4, False), (5, False), (6, False), (7, False), (8, False), (9, False), (10, False), (1, False), (2, False), (3, False), (4, False), (5, False), (6, False), (7, False), (8, False), (9, False), (10, False), (1, False), (2, False), (3, False), (4, False), (5, False), (6, False), (7, False), (8, False), (9, False), (10, False), (1, False), (2, False), (3, False), (4, False), (5, False), (6, False), (7, False), (8, False), (9, False), (10, False)]\n"
     ]
    }
   ],
   "source": [
    "#1уравнения\n",
    "a: list = (-12, 20, 17, 72, -7, -44, 9, 8, -2, -63)\n",
    "b: list = []\n",
    "c, d = 0, 0\n",
    "for i in range(0, len(a), 2):\n",
    "    p1 = a[i]\n",
    "    p2 = a[i + 1]\n",
    "    for t in range(1, len(a) + 1):\n",
    "            c, d = t, p2 and c + d == -a[i] and c * d == a[i + 1]\n",
    "            b.append((c, d))\n",
    "print(b)\n",
    "        \n",
    "   \n"
   ]
  },
  {
   "cell_type": "code",
   "execution_count": 26,
   "id": "62ef38d3-2fa7-4a3a-98d0-969f03ff014a",
   "metadata": {},
   "outputs": [
    {
     "name": "stdin",
     "output_type": "stream",
     "text": [
      " 9\n"
     ]
    },
    {
     "data": {
      "text/plain": [
       "5616"
      ]
     },
     "execution_count": 26,
     "metadata": {},
     "output_type": "execute_result"
    }
   ],
   "source": [
    "#уравнения1\n",
    "x = int(input()) \n",
    "a = (x ** 2 - 8) ** 2 + 4 * (x ** 2 - 8) - 5 \n",
    "a"
   ]
  },
  {
   "cell_type": "code",
   "execution_count": 41,
   "id": "8181e91a-2e07-4036-ab84-cb198d2e82b2",
   "metadata": {},
   "outputs": [
    {
     "name": "stdout",
     "output_type": "stream",
     "text": [
      "['Нет корней', 'Нет корней', (28.5, 15.5), 'Нет корней', (39.40569415042095, 23.59430584957905)]\n"
     ]
    }
   ],
   "source": [
    "#уравнения1дискр\n",
    "a: list = (-12, 20, 17, 72, -7, -44, 9, 8, -2, -63)\n",
    "b: list = []\n",
    "for i in range(0, len(a), 2):\n",
    "    p1 = a[i]\n",
    "    p2 = a[i + 1]\n",
    "    D =(p1 - 4 * p2) \n",
    "    if D > 0:\n",
    "        d = D ** 0.5\n",
    "        x1 = (- p2 + d) / 2 \n",
    "        x2 = (- p2 - d) / 2 \n",
    "        b.append((x1, x2))\n",
    "    elif d == 0:\n",
    "        x = - b / 2\n",
    "        b.append(x)\n",
    "    else:\n",
    "        b.append('Нет корней')\n",
    "print(b)\n",
    "        \n",
    "   "
   ]
  },
  {
   "cell_type": "code",
   "execution_count": 60,
   "id": "c7b318a2-c9ca-4f21-b3fe-c4d70ccb96e3",
   "metadata": {},
   "outputs": [
    {
     "name": "stdout",
     "output_type": "stream",
     "text": [
      "[-2, 102, -65, 94, 113]\n",
      "[113, 94, -65, 102, -2]\n"
     ]
    }
   ],
   "source": [
    "#randomlist2\n",
    "import random\n",
    "a: list = []\n",
    "for _ in range(1, 6):\n",
    "    a.append(random.randint(-78, 145))\n",
    "print(a)\n",
    "a.reverse()\n",
    "print(a)\n",
    "\n"
   ]
  },
  {
   "cell_type": "code",
   "execution_count": 86,
   "id": "0b34ef98-f82e-4f92-91d6-aa9ab74a1f07",
   "metadata": {},
   "outputs": [
    {
     "name": "stdout",
     "output_type": "stream",
     "text": [
      "[113, 102, -65, 94, -2]\n"
     ]
    }
   ],
   "source": [
    "#change3\n",
    "a: list = [-2, 102, -65, 94, 113]\n",
    "for i in range(1):\n",
    "    #print(a[i], a[i - 1])\n",
    "    a[i], a[i - 1] = a[i - 1], a[i] \n",
    "    print(a)    \n"
   ]
  },
  {
   "cell_type": "code",
   "execution_count": 95,
   "id": "0d8fde9e-df4b-4703-9831-34ef047d664c",
   "metadata": {},
   "outputs": [
    {
     "name": "stdout",
     "output_type": "stream",
     "text": [
      "[88, -97, -68, -78, 51, -96, -40, -84, 51]\n",
      "88\n",
      "9.777777777777779\n"
     ]
    }
   ],
   "source": [
    "#useless\n",
    "import random\n",
    "a: list = []\n",
    "for _ in range(1, 10):\n",
    "    a.append(random.randint(-100, 100))\n",
    "print(a)\n",
    "b = max(a) \n",
    "print(b)\n",
    "c = b / len(a)\n",
    "print(c)\n"
   ]
  },
  {
   "cell_type": "code",
   "execution_count": 153,
   "id": "d6a5dce0-0c7f-4340-903d-c58f876a7474",
   "metadata": {},
   "outputs": [
    {
     "name": "stdout",
     "output_type": "stream",
     "text": [
      "[4, 10, 6, 3]\n",
      "10\n",
      "['флеш______', 'стрит-флеш', 'тройка____', 'сет_______']\n"
     ]
    }
   ],
   "source": [
    "#diflen\n",
    "a: list = ['флеш', 'стрит-флеш', 'тройка', 'сет']\n",
    "b: list = []\n",
    "n = 4\n",
    "c = (list(map(lambda x: len(str(x)), a)))\n",
    "print(c)\n",
    "d = max(c)\n",
    "print(d)\n",
    "for i in range(0, n):\n",
    "    while len(a[i]) < d:\n",
    "        a[i] += '_' \n",
    "print(a)\n",
    "        \n"
   ]
  },
  {
   "cell_type": "code",
   "execution_count": null,
   "id": "faaee5a2-d34a-4982-96f6-d7ed4792777c",
   "metadata": {},
   "outputs": [],
   "source": []
  },
  {
   "cell_type": "code",
   "execution_count": null,
   "id": "aac82e3f-d699-444c-a928-3878255c3c90",
   "metadata": {},
   "outputs": [],
   "source": []
  },
  {
   "cell_type": "code",
   "execution_count": null,
   "id": "08bf8f5d-4fc5-4e84-b76d-726a4ff56379",
   "metadata": {},
   "outputs": [],
   "source": []
  }
 ],
 "metadata": {
  "kernelspec": {
   "display_name": "Python [conda env:base] *",
   "language": "python",
   "name": "conda-base-py"
  },
  "language_info": {
   "codemirror_mode": {
    "name": "ipython",
    "version": 3
   },
   "file_extension": ".py",
   "mimetype": "text/x-python",
   "name": "python",
   "nbconvert_exporter": "python",
   "pygments_lexer": "ipython3",
   "version": "3.13.5"
  }
 },
 "nbformat": 4,
 "nbformat_minor": 5
}
