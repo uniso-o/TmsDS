{
 "cells": [
  {
   "cell_type": "code",
   "execution_count": 8,
   "id": "50a5c15e-dc50-4b52-b4c3-05f8b78968f3",
   "metadata": {},
   "outputs": [
    {
     "name": "stdout",
     "output_type": "stream",
     "text": [
      "задание 1\n",
      "['1', '5', '7', '4345', '531', '2312', '88']\n",
      "минимальное число : 1\n",
      "максимальное число : 4345\n"
     ]
    }
   ],
   "source": [
    "print('задание 1')\n",
    "stroka : str = '1 5 7 4345 531 2312 88'\n",
    "new_stroka = stroka.split()\n",
    "print(new_stroka )\n",
    "num_list : list[int] = list(map(lambda x: int(x), new_stroka))\n",
    "print(\"минимальное число :\", min(num_list))\n",
    "print(\"максимальное число :\", max(num_list))"
   ]
  },
  {
   "cell_type": "code",
   "execution_count": 17,
   "id": "b0a4c157-2145-4d35-9e23-df8b6d50a018",
   "metadata": {},
   "outputs": [
    {
     "name": "stdout",
     "output_type": "stream",
     "text": [
      "задание 2*\n"
     ]
    },
    {
     "data": {
      "text/plain": [
       "['4637', '111111']"
      ]
     },
     "execution_count": 17,
     "metadata": {},
     "output_type": "execute_result"
    }
   ],
   "source": [
    "print('задание 2*')\n",
    "pin_list : list[str]= ['4637', '111111', '2', '888']\n",
    "list(filter(lambda x : len(x) == 4 or len(x) == 6, pin_list))"
   ]
  },
  {
   "cell_type": "code",
   "execution_count": 21,
   "id": "6e45d917-aa69-47f8-bd8f-81f928998ae3",
   "metadata": {},
   "outputs": [
    {
     "name": "stdout",
     "output_type": "stream",
     "text": [
      "задание 2**\n",
      "4637 True\n",
      "111111 True\n",
      "2 False\n",
      "888 False\n"
     ]
    }
   ],
   "source": [
    "print('задание 2**')\n",
    "pin_list : list[str]= ['4637', '111111', '2', '888']\n",
    "def condition(x : list) -> bool:\n",
    "    for i in range(len(x)):\n",
    "        if len(x[i]) == 4 or len(x[i]) == 6: \n",
    "            print(x[i], True)\n",
    "        else: \n",
    "            print(x[i], False)\n",
    "condition(pin_list)"
   ]
  },
  {
   "cell_type": "code",
   "execution_count": 53,
   "id": "cfaf42d0-cb56-49af-95c3-ecc384ab5600",
   "metadata": {},
   "outputs": [
    {
     "name": "stdout",
     "output_type": "stream",
     "text": [
      "задание 3\n",
      "исходный массив : [1, 5, 4, 9, 16, 54, 81, 72, 100, 101, 144, 625]\n",
      "массив квадратов : [1, 4, 9, 16, 81, 100, 144, 625]\n"
     ]
    }
   ],
   "source": [
    "print('задание 3')\n",
    "import math\n",
    "\n",
    "def fun_square(lst : list[int]) -> list[int]:\n",
    "    square_list = []\n",
    "    for i in range(len(lst)):\n",
    "        if lst[i] / math.sqrt(lst[i]) == round(math.sqrt(lst[i])):\n",
    "            square_list.append(lst[i])\n",
    "    return square_list\n",
    "\n",
    "num_list = [1, 5, 4, 9, 16, 54, 81, 72, 100, 101, 144, 625]\n",
    "print(\"исходный массив :\", num_list)\n",
    "print(\"массив квадратов :\", fun_square(num_list))"
   ]
  },
  {
   "cell_type": "code",
   "execution_count": 55,
   "id": "5ecfc9f6-ae64-4291-9dba-c77b6abffea3",
   "metadata": {},
   "outputs": [
    {
     "name": "stdout",
     "output_type": "stream",
     "text": [
      "задание 4\n"
     ]
    },
    {
     "data": {
      "text/plain": [
       "[2, 1, 7, 8, 9]"
      ]
     },
     "execution_count": 55,
     "metadata": {},
     "output_type": "execute_result"
    }
   ],
   "source": [
    "print('задание 4')\n",
    "num_list = [1, 1, 1, 2, 1, 7, 4, 4, 8, 9]\n",
    "new_list = []\n",
    "for i in range(len(num_list)):\n",
    "    if i != len(num_list) - 1:\n",
    "        if not ((num_list[i - 1] == num_list[i]) or (num_list[i + 1] == num_list[i])):\n",
    "            new_list.append(num_list[i])\n",
    "    elif i == len(num_list) - 1:\n",
    "        if not ((num_list[i - 1] == num_list[i])):\n",
    "            new_list.append(num_list[i])\n",
    "    elif i == 0:\n",
    "        if not ((num_list[i + 1] == num_list[i])):\n",
    "            new_list.append(num_list[i])\n",
    "new_list"
   ]
  },
  {
   "cell_type": "code",
   "execution_count": 58,
   "id": "2739295b-de0f-4457-ad1b-85eda01017cd",
   "metadata": {},
   "outputs": [
    {
     "name": "stdout",
     "output_type": "stream",
     "text": [
      "задание 4*\n",
      "[999, 1, 1, 1, 2, 1, 7, 4, 4, 8, 9, 999]\n"
     ]
    },
    {
     "data": {
      "text/plain": [
       "[2, 1, 7, 8, 9]"
      ]
     },
     "execution_count": 58,
     "metadata": {},
     "output_type": "execute_result"
    }
   ],
   "source": [
    "print('задание 4*')\n",
    "num_list = [1, 1, 1, 2, 1, 7, 4, 4, 8, 9]\n",
    "new_list = []\n",
    "num_list.append(999)\n",
    "num_list.insert(0, 999)\n",
    "print(num_list)\n",
    "for i in range(len(num_list)):\n",
    "    if i != len(num_list) - 1:\n",
    "        if not ((num_list[i - 1] == num_list[i]) or (num_list[i + 1] == num_list[i])):\n",
    "            new_list.append(num_list[i])\n",
    "new_list"
   ]
  },
  {
   "cell_type": "code",
   "execution_count": 63,
   "id": "8c330017-0fd1-4076-b4c4-951ae8f02585",
   "metadata": {},
   "outputs": [
    {
     "name": "stdout",
     "output_type": "stream",
     "text": [
      "задание 5\n",
      "исходная строка : Hello we are Nikita, Victor and Valeriya\n",
      "слово минимальной длины : we\n"
     ]
    }
   ],
   "source": [
    "print('задание 5')\n",
    "\n",
    "def min_slovo(st : str) -> str:\n",
    "    new_stroka = st.split()\n",
    "    len_list = list(map(lambda x: len(x), new_stroka))\n",
    "    return new_stroka[len_list.index(min(len_list))]\n",
    "\n",
    "stroka : str = 'Hello we are Nikita, Victor and Valeriya'\n",
    "min_slovo(stroka)\n",
    "print(\"исходная строка :\", stroka)\n",
    "print(\"слово минимальной длины :\", min_slovo(stroka))"
   ]
  },
  {
   "cell_type": "code",
   "execution_count": 68,
   "id": "7da165ab-e86b-4c5c-96b3-be2f8a27d404",
   "metadata": {},
   "outputs": [
    {
     "name": "stdout",
     "output_type": "stream",
     "text": [
      "задание 6\n",
      "исходное число : 987\n",
      "цифровой корень : 6\n"
     ]
    }
   ],
   "source": [
    "print('задание 6')\n",
    "\n",
    "def return_sum(arr: list) -> int:\n",
    "    sum: int = 0\n",
    "    for i in range(len(arr)):\n",
    "        sum += arr[i]\n",
    "    return sum\n",
    "\n",
    "def return_digits(x: int) -> int: \n",
    "    if x < 10: return x\n",
    "    digits_list = []\n",
    "    while x != 0:\n",
    "        y = int(x % 10) \n",
    "        digits_list.append(y)\n",
    "        x = (x - y) / 10\n",
    "    return return_digits(return_sum(digits_list))\n",
    "\n",
    "num = 987\n",
    "print(\"исходное число :\", num)\n",
    "print(\"цифровой корень :\", return_digits(num))"
   ]
  },
  {
   "cell_type": "code",
   "execution_count": 71,
   "id": "b1e189a2-5d18-4a42-8c7c-8c63f0e7d19e",
   "metadata": {},
   "outputs": [
    {
     "name": "stdout",
     "output_type": "stream",
     "text": [
      "задание 7\n",
      "исходная строка :  domashka1\n",
      "средний символ(ы) :  s\n"
     ]
    }
   ],
   "source": [
    "print('задание 7')\n",
    "\n",
    "def return_middle_1(st : str) -> str:\n",
    "    if len(st) % 2 == 0:\n",
    "        return st[int(len(st) / 2) - 1 : int(len(st) / 2) + 1]\n",
    "    else:\n",
    "        return st[int(len(st) / 2)]\n",
    "\n",
    "stroka : str = 'domashka1'\n",
    "print(\"исходная строка : \", stroka)\n",
    "print(\"средний символ(ы) : \", return_middle_1(stroka))"
   ]
  },
  {
   "cell_type": "code",
   "execution_count": 13,
   "id": "4a54f4da-a36b-41a7-b82c-3152125a0a03",
   "metadata": {},
   "outputs": [
    {
     "name": "stdout",
     "output_type": "stream",
     "text": [
      "задание 8\n",
      "исходное число :  7\n",
      "простое? :  True\n"
     ]
    }
   ],
   "source": [
    "print('задание 8')\n",
    "\n",
    "def is_simple(x : int) -> bool:\n",
    "    if x == 1:\n",
    "        is_s = True\n",
    "        return True\n",
    "    for i in range(2, x):\n",
    "        is_s : bool = True\n",
    "        if x % i == 0: \n",
    "            is_s = False\n",
    "            return False\n",
    "        return is_s\n",
    "        \n",
    "num : int = 7\n",
    "print(\"исходное число : \", num)\n",
    "print(\"простое? : \", is_simple(num))"
   ]
  },
  {
   "cell_type": "code",
   "execution_count": 28,
   "id": "2293f2fb-fdd1-4bda-a0a2-21baa31c430a",
   "metadata": {},
   "outputs": [
    {
     "name": "stdout",
     "output_type": "stream",
     "text": [
      "задание 9\n",
      "исходный список : [3, 4, 5, 2, 5, 1]\n",
      "20\n",
      "сумма его элементов : четная\n"
     ]
    }
   ],
   "source": [
    "print('задание 9')\n",
    "\n",
    "def return_sum(arr: list[num]) -> int:\n",
    "    sum: int = 0\n",
    "    for i in range(len(arr)):\n",
    "        sum += arr[i]\n",
    "    print(sum)\n",
    "    return return_parity_digits(sum)\n",
    "\n",
    "def return_parity_digits(x: int) -> int: \n",
    "    if x % 2 == 0: \n",
    "        return 'четная'\n",
    "    else:\n",
    "        return 'нечетная' \n",
    "\n",
    "arr = [3, 4, 5, 2, 5, 1]\n",
    "print(\"исходный список :\", arr)\n",
    "print(\"сумма его элементов :\", return_sum(arr))"
   ]
  }
 ],
 "metadata": {
  "kernelspec": {
   "display_name": "Python [conda env:base] *",
   "language": "python",
   "name": "conda-base-py"
  },
  "language_info": {
   "codemirror_mode": {
    "name": "ipython",
    "version": 3
   },
   "file_extension": ".py",
   "mimetype": "text/x-python",
   "name": "python",
   "nbconvert_exporter": "python",
   "pygments_lexer": "ipython3",
   "version": "3.13.5"
  }
 },
 "nbformat": 4,
 "nbformat_minor": 5
}
