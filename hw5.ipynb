{
 "cells": [
  {
   "cell_type": "code",
   "execution_count": 37,
   "id": "38db22dc-a11d-4088-ab38-7d6d1a92fe0d",
   "metadata": {},
   "outputs": [
    {
     "name": "stdout",
     "output_type": "stream",
     "text": [
      "[1, 2, 3, 4, 5]\n",
      "[6, 7, 8, 9, 10]\n",
      "[11, 12, 13, 14, 15]\n",
      "[16, 17, 18, 19, 20]\n",
      "[21, 22, 23, 24, 25]\n",
      "---------------\n",
      "[1, 2, 3, 4, 5]\n",
      "[10, 9, 8, 7, 6]\n",
      "[11, 12, 13, 14, 15]\n",
      "[20, 19, 18, 17, 16]\n",
      "[21, 22, 23, 24, 25]\n",
      "---------------\n"
     ]
    }
   ],
   "source": [
    "#i - строка j - столбец\n",
    "def create_matrix(n: int):\n",
    "    matrix = []\n",
    "    for i in range(n):\n",
    "        temp = []\n",
    "        for j in range(n):\n",
    "            temp.append(i * n + j + 1)\n",
    "        matrix.append(temp)\n",
    "    #print(matrix)\n",
    "    return matrix\n",
    "def sort_matrix(matrix, n):\n",
    "    for i in range(n):\n",
    "        if i % 2 == 1:\n",
    "            for j in range(n // 2):\n",
    "                matrix[i][j], matrix[i][n - j - 1] = matrix[i][n - j - 1], matrix[i][j]\n",
    "    #print(matrix)\n",
    "def print_matrix(matrix):\n",
    "    for i in range(n):\n",
    "        print(matrix[i])\n",
    "    print('---------------')\n",
    "new_matrix = create_matrix(5)\n",
    "print_matrix(new_matrix)\n",
    "sort_matrix(new_matrix, 5)\n",
    "print_matrix(new_matrix)"
   ]
  },
  {
   "cell_type": "code",
   "execution_count": 38,
   "id": "9a0e6d0e-dc64-42f7-9847-4b0cdd7416ee",
   "metadata": {},
   "outputs": [
    {
     "name": "stdout",
     "output_type": "stream",
     "text": [
      "[1, 2, 3, 4, 5]\n",
      "[10, 9, 8, 7, 6]\n",
      "[11, 12, 13, 14, 15]\n",
      "[20, 19, 18, 17, 16]\n",
      "[21, 22, 23, 24, 25]\n",
      "---------------\n",
      "[1, 10, 11, 20, 21]\n",
      "[2, 9, 12, 19, 22]\n",
      "[3, 8, 13, 18, 23]\n",
      "[4, 7, 14, 17, 24]\n",
      "[5, 6, 15, 16, 25]\n",
      "---------------\n"
     ]
    }
   ],
   "source": [
    "#строка(i) столбец(j) =  столбец строка\n",
    "def sort_vertical_matrix(matrix, n):\n",
    "    for i in range(n): #константные столбцы\n",
    "        if i % 2 == 1:\n",
    "            for j in range(n // 2):\n",
    "                #matrix[i - j - 1][j], matrix[i][n] = matrix[i - j - 1][n], matrix[i][j]\n",
    "                #matrix[j][i], matrix[j][n - i - 1] = matrix[j][n - i - 1], matrix[j][i]\n",
    "                #matrix[i][j], matrix[j][n - i - 1] = matrix[j][n - i - 1], matrix[i][j]\n",
    "                #matrix[j][i], matrix[n - j - 1][i] = matrix[n - j - 1][i], matrix[j][i]\n",
    "                matrix[j][i], matrix[n - j - 1][i] = matrix[i][j], matrix[j][i]\n",
    "    print(matrix)\n",
    "    print('---------------')\n",
    "def trans_matrix(matrix, n):\n",
    "    for i in range(1, n): #константные столбцы\n",
    "        for j in range(0, i):\n",
    "            matrix[j][i], matrix[i][j] = matrix[i][j], matrix[j][i]\n",
    "    #print(matrix)\n",
    "#vertical_matrix = create_matrix(5)\n",
    "print_matrix(new_matrix)\n",
    "trans_matrix(new_matrix, 5)\n",
    "print_matrix(new_matrix)"
   ]
  },
  {
   "cell_type": "code",
   "execution_count": null,
   "id": "80fb0e29-7062-41a1-9174-1b2e6b3f4333",
   "metadata": {},
   "outputs": [],
   "source": []
  },
  {
   "cell_type": "code",
   "execution_count": 48,
   "id": "4bb5fe93-15ce-4b48-b23e-9d30f164ef65",
   "metadata": {},
   "outputs": [
    {
     "data": {
      "text/plain": [
       "[3, 3, 3, 5, 4, 4, 7, 6, 6]"
      ]
     },
     "execution_count": 48,
     "metadata": {},
     "output_type": "execute_result"
    }
   ],
   "source": [
    "def return_digits(x: int) -> list:\n",
    "    digits_list = []\n",
    "    while x != 0:\n",
    "        y = int(x % 10) \n",
    "        digits_list.append(y)\n",
    "        x = (x - y) / 10\n",
    "    return digits_list\n",
    "return_digits(667445333)"
   ]
  },
  {
   "cell_type": "code",
   "execution_count": 58,
   "id": "948149a0-9881-4cdc-aab0-48525011dee5",
   "metadata": {},
   "outputs": [
    {
     "data": {
      "text/plain": [
       "20"
      ]
     },
     "execution_count": 58,
     "metadata": {},
     "output_type": "execute_result"
    }
   ],
   "source": [
    "def return_centenary(x: int) -> int:\n",
    "    if x != 0:\n",
    "        y = int(x % 100) \n",
    "        if y > 0:\n",
    "            x = int((x - y) / 100) + 1\n",
    "        else:\n",
    "            x = int((x - y) / 100)\n",
    "    return x\n",
    "return_centenary(2000)"
   ]
  },
  {
   "cell_type": "code",
   "execution_count": 64,
   "id": "8d3d752a-a3b2-46a1-ae8c-0d773feba34e",
   "metadata": {},
   "outputs": [
    {
     "data": {
      "text/plain": [
       "[6, 5, 4, 3, 2, 1]"
      ]
     },
     "execution_count": 64,
     "metadata": {},
     "output_type": "execute_result"
    }
   ],
   "source": [
    "def return_int_digits(n: int) -> list:\n",
    "    int_digits_list = []\n",
    "    for i in range(n + 1):\n",
    "        while n > 0:\n",
    "            n -= 1\n",
    "            int_digits_list.append(n + 1)\n",
    "    return(int_digits_list)\n",
    "return_int_digits(6)   "
   ]
  },
  {
   "cell_type": "code",
   "execution_count": 100,
   "id": "3e100034-9da9-4c2f-a417-440649ea217d",
   "metadata": {},
   "outputs": [
    {
     "data": {
      "text/plain": [
       "2"
      ]
     },
     "execution_count": 100,
     "metadata": {},
     "output_type": "execute_result"
    }
   ],
   "source": [
    "def calculation_litres(times: int)  -> int:\n",
    "    litres = (times * 0.5) // 1\n",
    "    return(int(litres))\n",
    "calculation_litres(1)\n",
    "calculation_litres(4)"
   ]
  },
  {
   "cell_type": "code",
   "execution_count": 99,
   "id": "4ad19b1f-5056-4384-9503-5e936a3cc72b",
   "metadata": {},
   "outputs": [
    {
     "data": {
      "text/plain": [
       "['Robin', 'says', 'that', 'Jonny', 'so', 'cool', 'specialist']"
      ]
     },
     "execution_count": 99,
     "metadata": {},
     "output_type": "execute_result"
    }
   ],
   "source": [
    "def line_separation(n: str) -> list:\n",
    "    list_elements = n.split()\n",
    "    return(list_elements)\n",
    "line_separation('Robin says that Jonny so cool specialist')        "
   ]
  },
  {
   "cell_type": "code",
   "execution_count": null,
   "id": "803a4cde-d526-45c4-a13d-5566ccd56979",
   "metadata": {},
   "outputs": [],
   "source": []
  }
 ],
 "metadata": {
  "kernelspec": {
   "display_name": "Python [conda env:base] *",
   "language": "python",
   "name": "conda-base-py"
  },
  "language_info": {
   "codemirror_mode": {
    "name": "ipython",
    "version": 3
   },
   "file_extension": ".py",
   "mimetype": "text/x-python",
   "name": "python",
   "nbconvert_exporter": "python",
   "pygments_lexer": "ipython3",
   "version": "3.13.5"
  }
 },
 "nbformat": 4,
 "nbformat_minor": 5
}
